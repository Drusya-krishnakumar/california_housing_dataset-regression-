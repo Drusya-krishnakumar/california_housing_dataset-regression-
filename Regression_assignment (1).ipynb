{
 "cells": [
  {
   "cell_type": "markdown",
   "id": "91ac34d2-3dfd-4609-a3e2-4d9d3efd4967",
   "metadata": {},
   "source": [
    "# Regression Analysis on California Housing Dataset"
   ]
  },
  {
   "cell_type": "markdown",
   "id": "1fddda00-055f-40dd-a5ac-4d0b71bcb505",
   "metadata": {},
   "source": [
    "## Objective:\n",
    "To evaluate the performance of various regression techniques on a real-world dataset and compare their effectiveness in predicting median house values."
   ]
  },
  {
   "cell_type": "markdown",
   "id": "c669966b-f007-44ad-8682-05abd48aba03",
   "metadata": {},
   "source": [
    "##  1. Loading and Preprocessing "
   ]
  },
  {
   "cell_type": "code",
   "execution_count": 103,
   "id": "cff8c72c-ee39-4e18-a6de-aa261b8f902b",
   "metadata": {},
   "outputs": [
    {
     "name": "stdout",
     "output_type": "stream",
     "text": [
      "<class 'pandas.core.frame.DataFrame'>\n",
      "RangeIndex: 20640 entries, 0 to 20639\n",
      "Data columns (total 9 columns):\n",
      " #   Column      Non-Null Count  Dtype  \n",
      "---  ------      --------------  -----  \n",
      " 0   MedInc      20640 non-null  float64\n",
      " 1   HouseAge    20640 non-null  float64\n",
      " 2   AveRooms    20640 non-null  float64\n",
      " 3   AveBedrms   20640 non-null  float64\n",
      " 4   Population  20640 non-null  float64\n",
      " 5   AveOccup    20640 non-null  float64\n",
      " 6   Latitude    20640 non-null  float64\n",
      " 7   Longitude   20640 non-null  float64\n",
      " 8   Target      20640 non-null  float64\n",
      "dtypes: float64(9)\n",
      "memory usage: 1.4 MB\n"
     ]
    }
   ],
   "source": [
    "# Import necessary libraries\n",
    "import pandas as pd\n",
    "import numpy as np\n",
    "from sklearn.datasets import fetch_california_housing\n",
    "from sklearn.preprocessing import StandardScaler\n",
    "from sklearn.model_selection import train_test_split\n",
    "\n",
    "# Load dataset\n",
    "california = fetch_california_housing()\n",
    "df = pd.DataFrame(data=california.data, columns=california.feature_names)\n",
    "df['Target'] = california.target\n",
    "\n",
    "# Display the first few rows\n",
    "df.info()\n"
   ]
  },
  {
   "cell_type": "code",
   "execution_count": 104,
   "id": "bffff9fd-7df0-419f-a1d8-c0ebee3e24b5",
   "metadata": {},
   "outputs": [
    {
     "data": {
      "text/html": [
       "<div>\n",
       "<style scoped>\n",
       "    .dataframe tbody tr th:only-of-type {\n",
       "        vertical-align: middle;\n",
       "    }\n",
       "\n",
       "    .dataframe tbody tr th {\n",
       "        vertical-align: top;\n",
       "    }\n",
       "\n",
       "    .dataframe thead th {\n",
       "        text-align: right;\n",
       "    }\n",
       "</style>\n",
       "<table border=\"1\" class=\"dataframe\">\n",
       "  <thead>\n",
       "    <tr style=\"text-align: right;\">\n",
       "      <th></th>\n",
       "      <th>MedInc</th>\n",
       "      <th>HouseAge</th>\n",
       "      <th>AveRooms</th>\n",
       "      <th>AveBedrms</th>\n",
       "      <th>Population</th>\n",
       "      <th>AveOccup</th>\n",
       "      <th>Latitude</th>\n",
       "      <th>Longitude</th>\n",
       "      <th>Target</th>\n",
       "    </tr>\n",
       "  </thead>\n",
       "  <tbody>\n",
       "    <tr>\n",
       "      <th>count</th>\n",
       "      <td>20640.000000</td>\n",
       "      <td>20640.000000</td>\n",
       "      <td>20640.000000</td>\n",
       "      <td>20640.000000</td>\n",
       "      <td>20640.000000</td>\n",
       "      <td>20640.000000</td>\n",
       "      <td>20640.000000</td>\n",
       "      <td>20640.000000</td>\n",
       "      <td>20640.000000</td>\n",
       "    </tr>\n",
       "    <tr>\n",
       "      <th>mean</th>\n",
       "      <td>3.870671</td>\n",
       "      <td>28.639486</td>\n",
       "      <td>5.429000</td>\n",
       "      <td>1.096675</td>\n",
       "      <td>1425.476744</td>\n",
       "      <td>3.070655</td>\n",
       "      <td>35.631861</td>\n",
       "      <td>-119.569704</td>\n",
       "      <td>2.068558</td>\n",
       "    </tr>\n",
       "    <tr>\n",
       "      <th>std</th>\n",
       "      <td>1.899822</td>\n",
       "      <td>12.585558</td>\n",
       "      <td>2.474173</td>\n",
       "      <td>0.473911</td>\n",
       "      <td>1132.462122</td>\n",
       "      <td>10.386050</td>\n",
       "      <td>2.135952</td>\n",
       "      <td>2.003532</td>\n",
       "      <td>1.153956</td>\n",
       "    </tr>\n",
       "    <tr>\n",
       "      <th>min</th>\n",
       "      <td>0.499900</td>\n",
       "      <td>1.000000</td>\n",
       "      <td>0.846154</td>\n",
       "      <td>0.333333</td>\n",
       "      <td>3.000000</td>\n",
       "      <td>0.692308</td>\n",
       "      <td>32.540000</td>\n",
       "      <td>-124.350000</td>\n",
       "      <td>0.149990</td>\n",
       "    </tr>\n",
       "    <tr>\n",
       "      <th>25%</th>\n",
       "      <td>2.563400</td>\n",
       "      <td>18.000000</td>\n",
       "      <td>4.440716</td>\n",
       "      <td>1.006079</td>\n",
       "      <td>787.000000</td>\n",
       "      <td>2.429741</td>\n",
       "      <td>33.930000</td>\n",
       "      <td>-121.800000</td>\n",
       "      <td>1.196000</td>\n",
       "    </tr>\n",
       "    <tr>\n",
       "      <th>50%</th>\n",
       "      <td>3.534800</td>\n",
       "      <td>29.000000</td>\n",
       "      <td>5.229129</td>\n",
       "      <td>1.048780</td>\n",
       "      <td>1166.000000</td>\n",
       "      <td>2.818116</td>\n",
       "      <td>34.260000</td>\n",
       "      <td>-118.490000</td>\n",
       "      <td>1.797000</td>\n",
       "    </tr>\n",
       "    <tr>\n",
       "      <th>75%</th>\n",
       "      <td>4.743250</td>\n",
       "      <td>37.000000</td>\n",
       "      <td>6.052381</td>\n",
       "      <td>1.099526</td>\n",
       "      <td>1725.000000</td>\n",
       "      <td>3.282261</td>\n",
       "      <td>37.710000</td>\n",
       "      <td>-118.010000</td>\n",
       "      <td>2.647250</td>\n",
       "    </tr>\n",
       "    <tr>\n",
       "      <th>max</th>\n",
       "      <td>15.000100</td>\n",
       "      <td>52.000000</td>\n",
       "      <td>141.909091</td>\n",
       "      <td>34.066667</td>\n",
       "      <td>35682.000000</td>\n",
       "      <td>1243.333333</td>\n",
       "      <td>41.950000</td>\n",
       "      <td>-114.310000</td>\n",
       "      <td>5.000010</td>\n",
       "    </tr>\n",
       "  </tbody>\n",
       "</table>\n",
       "</div>"
      ],
      "text/plain": [
       "             MedInc      HouseAge      AveRooms     AveBedrms    Population  \\\n",
       "count  20640.000000  20640.000000  20640.000000  20640.000000  20640.000000   \n",
       "mean       3.870671     28.639486      5.429000      1.096675   1425.476744   \n",
       "std        1.899822     12.585558      2.474173      0.473911   1132.462122   \n",
       "min        0.499900      1.000000      0.846154      0.333333      3.000000   \n",
       "25%        2.563400     18.000000      4.440716      1.006079    787.000000   \n",
       "50%        3.534800     29.000000      5.229129      1.048780   1166.000000   \n",
       "75%        4.743250     37.000000      6.052381      1.099526   1725.000000   \n",
       "max       15.000100     52.000000    141.909091     34.066667  35682.000000   \n",
       "\n",
       "           AveOccup      Latitude     Longitude        Target  \n",
       "count  20640.000000  20640.000000  20640.000000  20640.000000  \n",
       "mean       3.070655     35.631861   -119.569704      2.068558  \n",
       "std       10.386050      2.135952      2.003532      1.153956  \n",
       "min        0.692308     32.540000   -124.350000      0.149990  \n",
       "25%        2.429741     33.930000   -121.800000      1.196000  \n",
       "50%        2.818116     34.260000   -118.490000      1.797000  \n",
       "75%        3.282261     37.710000   -118.010000      2.647250  \n",
       "max     1243.333333     41.950000   -114.310000      5.000010  "
      ]
     },
     "execution_count": 104,
     "metadata": {},
     "output_type": "execute_result"
    }
   ],
   "source": [
    "df.describe()"
   ]
  },
  {
   "cell_type": "code",
   "execution_count": 105,
   "id": "511b2fdf-e383-4d80-8196-7b99590f0d99",
   "metadata": {},
   "outputs": [
    {
     "data": {
      "text/plain": [
       "(20640, 9)"
      ]
     },
     "execution_count": 105,
     "metadata": {},
     "output_type": "execute_result"
    }
   ],
   "source": [
    "df.shape"
   ]
  },
  {
   "cell_type": "code",
   "execution_count": 106,
   "id": "31c533aa-c9b4-45e1-be88-956b2d260598",
   "metadata": {},
   "outputs": [
    {
     "data": {
      "text/html": [
       "<div>\n",
       "<style scoped>\n",
       "    .dataframe tbody tr th:only-of-type {\n",
       "        vertical-align: middle;\n",
       "    }\n",
       "\n",
       "    .dataframe tbody tr th {\n",
       "        vertical-align: top;\n",
       "    }\n",
       "\n",
       "    .dataframe thead th {\n",
       "        text-align: right;\n",
       "    }\n",
       "</style>\n",
       "<table border=\"1\" class=\"dataframe\">\n",
       "  <thead>\n",
       "    <tr style=\"text-align: right;\">\n",
       "      <th></th>\n",
       "      <th>MedInc</th>\n",
       "      <th>HouseAge</th>\n",
       "      <th>AveRooms</th>\n",
       "      <th>AveBedrms</th>\n",
       "      <th>Population</th>\n",
       "      <th>AveOccup</th>\n",
       "      <th>Latitude</th>\n",
       "      <th>Longitude</th>\n",
       "      <th>Target</th>\n",
       "    </tr>\n",
       "  </thead>\n",
       "  <tbody>\n",
       "    <tr>\n",
       "      <th>0</th>\n",
       "      <td>8.3252</td>\n",
       "      <td>41.0</td>\n",
       "      <td>6.984127</td>\n",
       "      <td>1.023810</td>\n",
       "      <td>322.0</td>\n",
       "      <td>2.555556</td>\n",
       "      <td>37.88</td>\n",
       "      <td>-122.23</td>\n",
       "      <td>4.526</td>\n",
       "    </tr>\n",
       "    <tr>\n",
       "      <th>1</th>\n",
       "      <td>8.3014</td>\n",
       "      <td>21.0</td>\n",
       "      <td>6.238137</td>\n",
       "      <td>0.971880</td>\n",
       "      <td>2401.0</td>\n",
       "      <td>2.109842</td>\n",
       "      <td>37.86</td>\n",
       "      <td>-122.22</td>\n",
       "      <td>3.585</td>\n",
       "    </tr>\n",
       "    <tr>\n",
       "      <th>2</th>\n",
       "      <td>7.2574</td>\n",
       "      <td>52.0</td>\n",
       "      <td>8.288136</td>\n",
       "      <td>1.073446</td>\n",
       "      <td>496.0</td>\n",
       "      <td>2.802260</td>\n",
       "      <td>37.85</td>\n",
       "      <td>-122.24</td>\n",
       "      <td>3.521</td>\n",
       "    </tr>\n",
       "    <tr>\n",
       "      <th>3</th>\n",
       "      <td>5.6431</td>\n",
       "      <td>52.0</td>\n",
       "      <td>5.817352</td>\n",
       "      <td>1.073059</td>\n",
       "      <td>558.0</td>\n",
       "      <td>2.547945</td>\n",
       "      <td>37.85</td>\n",
       "      <td>-122.25</td>\n",
       "      <td>3.413</td>\n",
       "    </tr>\n",
       "    <tr>\n",
       "      <th>4</th>\n",
       "      <td>3.8462</td>\n",
       "      <td>52.0</td>\n",
       "      <td>6.281853</td>\n",
       "      <td>1.081081</td>\n",
       "      <td>565.0</td>\n",
       "      <td>2.181467</td>\n",
       "      <td>37.85</td>\n",
       "      <td>-122.25</td>\n",
       "      <td>3.422</td>\n",
       "    </tr>\n",
       "  </tbody>\n",
       "</table>\n",
       "</div>"
      ],
      "text/plain": [
       "   MedInc  HouseAge  AveRooms  AveBedrms  Population  AveOccup  Latitude  \\\n",
       "0  8.3252      41.0  6.984127   1.023810       322.0  2.555556     37.88   \n",
       "1  8.3014      21.0  6.238137   0.971880      2401.0  2.109842     37.86   \n",
       "2  7.2574      52.0  8.288136   1.073446       496.0  2.802260     37.85   \n",
       "3  5.6431      52.0  5.817352   1.073059       558.0  2.547945     37.85   \n",
       "4  3.8462      52.0  6.281853   1.081081       565.0  2.181467     37.85   \n",
       "\n",
       "   Longitude  Target  \n",
       "0    -122.23   4.526  \n",
       "1    -122.22   3.585  \n",
       "2    -122.24   3.521  \n",
       "3    -122.25   3.413  \n",
       "4    -122.25   3.422  "
      ]
     },
     "execution_count": 106,
     "metadata": {},
     "output_type": "execute_result"
    }
   ],
   "source": [
    "df.head()"
   ]
  },
  {
   "cell_type": "code",
   "execution_count": 107,
   "id": "8c0df961-9112-4f0c-af15-08459a66354b",
   "metadata": {},
   "outputs": [
    {
     "data": {
      "text/html": [
       "<div>\n",
       "<style scoped>\n",
       "    .dataframe tbody tr th:only-of-type {\n",
       "        vertical-align: middle;\n",
       "    }\n",
       "\n",
       "    .dataframe tbody tr th {\n",
       "        vertical-align: top;\n",
       "    }\n",
       "\n",
       "    .dataframe thead th {\n",
       "        text-align: right;\n",
       "    }\n",
       "</style>\n",
       "<table border=\"1\" class=\"dataframe\">\n",
       "  <thead>\n",
       "    <tr style=\"text-align: right;\">\n",
       "      <th></th>\n",
       "      <th>MedInc</th>\n",
       "      <th>HouseAge</th>\n",
       "      <th>AveRooms</th>\n",
       "      <th>AveBedrms</th>\n",
       "      <th>Population</th>\n",
       "      <th>AveOccup</th>\n",
       "      <th>Latitude</th>\n",
       "      <th>Longitude</th>\n",
       "      <th>Target</th>\n",
       "    </tr>\n",
       "  </thead>\n",
       "  <tbody>\n",
       "    <tr>\n",
       "      <th>20635</th>\n",
       "      <td>1.5603</td>\n",
       "      <td>25.0</td>\n",
       "      <td>5.045455</td>\n",
       "      <td>1.133333</td>\n",
       "      <td>845.0</td>\n",
       "      <td>2.560606</td>\n",
       "      <td>39.48</td>\n",
       "      <td>-121.09</td>\n",
       "      <td>0.781</td>\n",
       "    </tr>\n",
       "    <tr>\n",
       "      <th>20636</th>\n",
       "      <td>2.5568</td>\n",
       "      <td>18.0</td>\n",
       "      <td>6.114035</td>\n",
       "      <td>1.315789</td>\n",
       "      <td>356.0</td>\n",
       "      <td>3.122807</td>\n",
       "      <td>39.49</td>\n",
       "      <td>-121.21</td>\n",
       "      <td>0.771</td>\n",
       "    </tr>\n",
       "    <tr>\n",
       "      <th>20637</th>\n",
       "      <td>1.7000</td>\n",
       "      <td>17.0</td>\n",
       "      <td>5.205543</td>\n",
       "      <td>1.120092</td>\n",
       "      <td>1007.0</td>\n",
       "      <td>2.325635</td>\n",
       "      <td>39.43</td>\n",
       "      <td>-121.22</td>\n",
       "      <td>0.923</td>\n",
       "    </tr>\n",
       "    <tr>\n",
       "      <th>20638</th>\n",
       "      <td>1.8672</td>\n",
       "      <td>18.0</td>\n",
       "      <td>5.329513</td>\n",
       "      <td>1.171920</td>\n",
       "      <td>741.0</td>\n",
       "      <td>2.123209</td>\n",
       "      <td>39.43</td>\n",
       "      <td>-121.32</td>\n",
       "      <td>0.847</td>\n",
       "    </tr>\n",
       "    <tr>\n",
       "      <th>20639</th>\n",
       "      <td>2.3886</td>\n",
       "      <td>16.0</td>\n",
       "      <td>5.254717</td>\n",
       "      <td>1.162264</td>\n",
       "      <td>1387.0</td>\n",
       "      <td>2.616981</td>\n",
       "      <td>39.37</td>\n",
       "      <td>-121.24</td>\n",
       "      <td>0.894</td>\n",
       "    </tr>\n",
       "  </tbody>\n",
       "</table>\n",
       "</div>"
      ],
      "text/plain": [
       "       MedInc  HouseAge  AveRooms  AveBedrms  Population  AveOccup  Latitude  \\\n",
       "20635  1.5603      25.0  5.045455   1.133333       845.0  2.560606     39.48   \n",
       "20636  2.5568      18.0  6.114035   1.315789       356.0  3.122807     39.49   \n",
       "20637  1.7000      17.0  5.205543   1.120092      1007.0  2.325635     39.43   \n",
       "20638  1.8672      18.0  5.329513   1.171920       741.0  2.123209     39.43   \n",
       "20639  2.3886      16.0  5.254717   1.162264      1387.0  2.616981     39.37   \n",
       "\n",
       "       Longitude  Target  \n",
       "20635    -121.09   0.781  \n",
       "20636    -121.21   0.771  \n",
       "20637    -121.22   0.923  \n",
       "20638    -121.32   0.847  \n",
       "20639    -121.24   0.894  "
      ]
     },
     "execution_count": 107,
     "metadata": {},
     "output_type": "execute_result"
    }
   ],
   "source": [
    "df.tail()"
   ]
  },
  {
   "cell_type": "code",
   "execution_count": 108,
   "id": "097cd211-3a20-4e36-a7e7-1b412d649ddf",
   "metadata": {},
   "outputs": [
    {
     "data": {
      "text/plain": [
       "MedInc        0\n",
       "HouseAge      0\n",
       "AveRooms      0\n",
       "AveBedrms     0\n",
       "Population    0\n",
       "AveOccup      0\n",
       "Latitude      0\n",
       "Longitude     0\n",
       "Target        0\n",
       "dtype: int64"
      ]
     },
     "execution_count": 108,
     "metadata": {},
     "output_type": "execute_result"
    }
   ],
   "source": [
    "# Check for missing values\n",
    "df.isnull().sum()\n"
   ]
  },
  {
   "cell_type": "markdown",
   "id": "9b114a11-0349-4f66-86ea-caf202ac732e",
   "metadata": {},
   "source": [
    "#### no missing values present in this data set"
   ]
  },
  {
   "cell_type": "markdown",
   "id": "5df1de2e-9ef3-4278-b152-77aff20c81eb",
   "metadata": {},
   "source": [
    "## Outlier Detection & Handling"
   ]
  },
  {
   "cell_type": "code",
   "execution_count": 111,
   "id": "90234b0e-5b7d-420c-a01e-942a79c5f1ec",
   "metadata": {},
   "outputs": [
    {
     "data": {
      "image/png": "[encoded data removed]",
      "text/plain": [
       "<Figure size 2000x1200 with 8 Axes>"
      ]
     },
     "metadata": {},
     "output_type": "display_data"
    }
   ],
   "source": [
    "import seaborn as sns\n",
    "import matplotlib.pyplot as plt\n",
    "\n",
    "# Create boxplots for each feature\n",
    "plt.figure(figsize=(20, 12))\n",
    "for i, column in enumerate(df.columns[:-1]):\n",
    "    plt.subplot(3, 3, i+1)\n",
    "    sns.boxplot(x=df[column])\n",
    "    plt.title(f'Boxplot of {column}')\n",
    "plt.tight_layout()\n",
    "plt.show()\n"
   ]
  },
  {
   "cell_type": "markdown",
   "id": "53c47302-f1f1-4c27-ae0a-ea4d592ccc72",
   "metadata": {},
   "source": [
    "## IQR Method"
   ]
  },
  {
   "cell_type": "code",
   "execution_count": 113,
   "id": "3a2bfea1-8a9a-48f9-8ad1-5155cff967ce",
   "metadata": {},
   "outputs": [
    {
     "name": "stdout",
     "output_type": "stream",
     "text": [
      "After IQR filtering: (16312, 9)\n"
     ]
    }
   ],
   "source": [
    "from scipy.stats import zscore\n",
    "\n",
    "Q1 = df.quantile(0.25)\n",
    "Q3 = df.quantile(0.75)\n",
    "IQR = Q3 - Q1\n",
    "\n",
    "# Keep only data within 1.5 IQR\n",
    "df_no_outliers= df[~((df < (Q1 - 1.5 * IQR)) | (df > (Q3 + 1.5 * IQR))).any(axis=1)]\n",
    "\n",
    "print(f\"After IQR filtering: {df_no_outliers.shape}\")\n",
    "\n"
   ]
  },
  {
   "cell_type": "markdown",
   "id": "30b29eef-6af3-4042-a359-47bbffe3661f",
   "metadata": {},
   "source": [
    "##  Feature Scaling (Standardization):"
   ]
  },
  {
   "cell_type": "code",
   "execution_count": 115,
   "id": "589d64a1-eb23-4e99-9f89-9e73a6c76dfe",
   "metadata": {},
   "outputs": [],
   "source": [
    "scaler = StandardScaler()\n",
    "X = scaler.fit_transform(df_no_outliers.drop('Target', axis=1))\n",
    "y = df_no_outliers['Target']\n",
    "\n",
    "# Train-test split\n",
    "X_train, X_test, y_train, y_test = train_test_split(X, y, test_size=0.2, random_state=42)\n"
   ]
  },
  {
   "cell_type": "markdown",
   "id": "55af28a5-1e1a-4b78-a61c-219f6c5594a1",
   "metadata": {},
   "source": [
    "## <b>2. Regression Algorithm Implementation (5 Marks)"
   ]
  },
  {
   "cell_type": "code",
   "execution_count": 117,
   "id": "d1f2fb51-d5ca-4beb-b3be-a85006c78e9b",
   "metadata": {},
   "outputs": [],
   "source": [
    "from sklearn.linear_model import LinearRegression\n",
    "from sklearn.tree import DecisionTreeRegressor\n",
    "from sklearn.ensemble import RandomForestRegressor, GradientBoostingRegressor\n",
    "from sklearn.svm import SVR\n",
    "from sklearn.metrics import mean_squared_error, mean_absolute_error, r2_score\n"
   ]
  },
  {
   "cell_type": "markdown",
   "id": "8588baec-499d-405b-b721-3a6d050eb841",
   "metadata": {},
   "source": [
    "### Helper Function for Evaluation:"
   ]
  },
  {
   "cell_type": "code",
   "execution_count": 119,
   "id": "4b950db9-ce15-4bd8-a566-cc482276678c",
   "metadata": {},
   "outputs": [],
   "source": [
    "def evaluate_model(name, model, X_train, X_test, y_train, y_test):\n",
    "    model.fit(X_train, y_train)\n",
    "    y_pred = model.predict(X_test)\n",
    "    mse = mean_squared_error(y_test, y_pred)\n",
    "    mae = mean_absolute_error(y_test, y_pred)\n",
    "    r2 = r2_score(y_test, y_pred)\n",
    "    print(f\"{name}: MSE={mse:.3f}, MAE={mae:.3f}, R2={r2:.3f}\")\n",
    "    return {'Model': name, 'MSE': mse, 'MAE': mae, 'R2': r2}\n"
   ]
  },
  {
   "cell_type": "markdown",
   "id": "06957e50-5cfc-4844-a540-8c53b3184957",
   "metadata": {},
   "source": [
    "##  1. Linear Regression"
   ]
  },
  {
   "cell_type": "code",
   "execution_count": 121,
   "id": "b52657ba-c177-41b9-953c-4c63f2460d87",
   "metadata": {},
   "outputs": [
    {
     "name": "stdout",
     "output_type": "stream",
     "text": [
      "Linear Regression: MSE=0.317, MAE=0.424, R2=0.638\n"
     ]
    },
    {
     "data": {
      "text/plain": [
       "{'Model': 'Linear Regression',\n",
       " 'MSE': 0.3165222770544474,\n",
       " 'MAE': 0.42355274297359935,\n",
       " 'R2': 0.6378964374821561}"
      ]
     },
     "execution_count": 121,
     "metadata": {},
     "output_type": "execute_result"
    }
   ],
   "source": [
    "lr = LinearRegression()\n",
    "lr_result = evaluate_model(\"Linear Regression\", lr, X_train, X_test, y_train, y_test)\n",
    "lr_result"
   ]
  },
  {
   "cell_type": "markdown",
   "id": "50b9bb8b-8244-4739-bc14-799499916c8b",
   "metadata": {},
   "source": [
    " #### While Linear Regression provides a reasonable baseline, it may underperform compared to more advanced models like Random Forest or Gradient Boosting that can capture non-linear relationships and feature interactions more effectively.\n"
   ]
  },
  {
   "cell_type": "markdown",
   "id": "f8b21f36-73b1-439c-ba31-f642fddc98ff",
   "metadata": {},
   "source": [
    "## Decision Tree Regressor"
   ]
  },
  {
   "cell_type": "code",
   "execution_count": 124,
   "id": "1c1f2a5b-0143-4609-8984-08f160c191d3",
   "metadata": {},
   "outputs": [
    {
     "name": "stdout",
     "output_type": "stream",
     "text": [
      "Decision Tree: MSE=0.415, MAE=0.431, R2=0.525\n"
     ]
    },
    {
     "data": {
      "text/plain": [
       "{'Model': 'Decision Tree',\n",
       " 'MSE': 0.41483570793748076,\n",
       " 'MAE': 0.4313726631933803,\n",
       " 'R2': 0.5254252272489047}"
      ]
     },
     "execution_count": 124,
     "metadata": {},
     "output_type": "execute_result"
    }
   ],
   "source": [
    "dt = DecisionTreeRegressor(random_state=42)\n",
    "dt_result = evaluate_model(\"Decision Tree\", dt, X_train, X_test, y_train, y_test)\n",
    "dt_result"
   ]
  },
  {
   "cell_type": "markdown",
   "id": "65350135-b3ea-458d-8510-eb4f2190bc7d",
   "metadata": {},
   "source": [
    " ##  Random Forest Regressor"
   ]
  },
  {
   "cell_type": "code",
   "execution_count": 126,
   "id": "0c7afa88-6f96-461f-9fb9-c5b0cc9a3fa3",
   "metadata": {},
   "outputs": [
    {
     "name": "stdout",
     "output_type": "stream",
     "text": [
      "Random Forest: MSE=0.179, MAE=0.291, R2=0.796\n"
     ]
    },
    {
     "data": {
      "text/plain": [
       "{'Model': 'Random Forest',\n",
       " 'MSE': 0.17868214653496545,\n",
       " 'MAE': 0.2911161350291143,\n",
       " 'R2': 0.7955864515421875}"
      ]
     },
     "execution_count": 126,
     "metadata": {},
     "output_type": "execute_result"
    }
   ],
   "source": [
    "rf = RandomForestRegressor(random_state=42, n_estimators=100)\n",
    "rf_result = evaluate_model(\"Random Forest\", rf, X_train, X_test, y_train, y_test)\n",
    "rf_result"
   ]
  },
  {
   "cell_type": "markdown",
   "id": "f1eacc27-0c12-48ab-bfe7-d281a14988db",
   "metadata": {},
   "source": [
    "###### The Random Forest Regressor is currently the best model in terms of both accuracy and generalization. It outperforms both simple models (like Linear Regression) and even other ensemble methods (like Gradient Boosting in this case). However, it may be more resource-intensive in terms of memory and training time."
   ]
  },
  {
   "cell_type": "markdown",
   "id": "760ac28a-9cad-402e-8475-eb98c60f577d",
   "metadata": {},
   "source": [
    " ## Gradient Boosting Regressor"
   ]
  },
  {
   "cell_type": "code",
   "execution_count": 128,
   "id": "160f202e-5630-45e0-9238-d598f84ab2df",
   "metadata": {},
   "outputs": [
    {
     "name": "stdout",
     "output_type": "stream",
     "text": [
      "Gradient Boosting: MSE=0.205, MAE=0.323, R2=0.766\n"
     ]
    },
    {
     "data": {
      "text/plain": [
       "{'Model': 'Gradient Boosting',\n",
       " 'MSE': 0.20494394931110976,\n",
       " 'MAE': 0.32269545287017753,\n",
       " 'R2': 0.7655427767908303}"
      ]
     },
     "execution_count": 128,
     "metadata": {},
     "output_type": "execute_result"
    }
   ],
   "source": [
    "gb = GradientBoostingRegressor(random_state=42)\n",
    "gb_result = evaluate_model(\"Gradient Boosting\", gb, X_train, X_test, y_train, y_test)\n",
    "gb_result"
   ]
  },
  {
   "cell_type": "markdown",
   "id": "df0635dd-cc2c-4dcb-949b-7d8616c10ebe",
   "metadata": {},
   "source": [
    "R² of 0.776 means it explains 77.6% of the variance in the house prices, significantly better than Linear Regression (57.6%).\n",
    "\n",
    "Lower MSE and MAE suggest higher prediction accuracy and lower average error "
   ]
  },
  {
   "cell_type": "markdown",
   "id": "85ddcad4-ac89-4405-be44-3569a771f38c",
   "metadata": {},
   "source": [
    "### Conclusion:\n",
    "Gradient Boosting appears to be one of the best-performing models in this experiment. It offers a strong balance of accuracy and generalization. However, it may come at the cost of training time and complexity."
   ]
  },
  {
   "cell_type": "code",
   "execution_count": 158,
   "id": "e2591cee-892d-4a5b-bcf8-5c6bb61bbea8",
   "metadata": {},
   "outputs": [
    {
     "name": "stdout",
     "output_type": "stream",
     "text": [
      "SVR: MSE=0.227, MAE=0.336, R2=0.741\n"
     ]
    },
    {
     "data": {
      "text/plain": [
       "{'Model': 'SVR',\n",
       " 'MSE': 0.22670132681627414,\n",
       " 'MAE': 0.3356347479554889,\n",
       " 'R2': 0.7406521941153164}"
      ]
     },
     "execution_count": 158,
     "metadata": {},
     "output_type": "execute_result"
    }
   ],
   "source": [
    "svr = SVR()\n",
    "svr_result = evaluate_model(\"SVR\", svr, X_train, X_test, y_train, y_test)\n",
    "svr_result"
   ]
  },
  {
   "cell_type": "markdown",
   "id": "9de6ab8a-310e-48ab-95b2-b4d59e6d438d",
   "metadata": {},
   "source": [
    "#### Performance Interpretation:\n",
    "R² of 0.741: Explains about 74.1% of the variance — better than Linear Regression and Decision Tree, but not as strong as Gradient Boosting or Random Forest.\n",
    "\n",
    "MAE of 0.336: Moderate accuracy, prediction error ~ $33,600.\n",
    "\n",
    "Training time and computational cost can be high with 20K+ samples, especially without GPU.\n",
    "\n",
    "### Conclusion:\n",
    "SVR offers strong performance and handles complexity better than linear models, but not as efficiently or accurately as ensemble models on this dataset. It is a good middle-ground model when working with scaled, mid-sized datasets."
   ]
  },
  {
   "cell_type": "markdown",
   "id": "13307db0-e3b1-45ff-b8a1-4f26bcca7d0f",
   "metadata": {},
   "source": [
    "## Model Evaluation and Comparison"
   ]
  },
  {
   "cell_type": "code",
   "execution_count": 164,
   "id": "47ae64c4-95fd-46ec-bd8c-7c5977cf6f24",
   "metadata": {},
   "outputs": [
    {
     "data": {
      "text/html": [
       "<div>\n",
       "<style scoped>\n",
       "    .dataframe tbody tr th:only-of-type {\n",
       "        vertical-align: middle;\n",
       "    }\n",
       "\n",
       "    .dataframe tbody tr th {\n",
       "        vertical-align: top;\n",
       "    }\n",
       "\n",
       "    .dataframe thead th {\n",
       "        text-align: right;\n",
       "    }\n",
       "</style>\n",
       "<table border=\"1\" class=\"dataframe\">\n",
       "  <thead>\n",
       "    <tr style=\"text-align: right;\">\n",
       "      <th></th>\n",
       "      <th>Model</th>\n",
       "      <th>MSE</th>\n",
       "      <th>MAE</th>\n",
       "      <th>R2</th>\n",
       "    </tr>\n",
       "  </thead>\n",
       "  <tbody>\n",
       "    <tr>\n",
       "      <th>2</th>\n",
       "      <td>Random Forest</td>\n",
       "      <td>0.178682</td>\n",
       "      <td>0.291116</td>\n",
       "      <td>0.795586</td>\n",
       "    </tr>\n",
       "    <tr>\n",
       "      <th>3</th>\n",
       "      <td>Gradient Boosting</td>\n",
       "      <td>0.204944</td>\n",
       "      <td>0.322695</td>\n",
       "      <td>0.765543</td>\n",
       "    </tr>\n",
       "    <tr>\n",
       "      <th>4</th>\n",
       "      <td>SVR</td>\n",
       "      <td>0.226701</td>\n",
       "      <td>0.335635</td>\n",
       "      <td>0.740652</td>\n",
       "    </tr>\n",
       "    <tr>\n",
       "      <th>0</th>\n",
       "      <td>Linear Regression</td>\n",
       "      <td>0.316522</td>\n",
       "      <td>0.423553</td>\n",
       "      <td>0.637896</td>\n",
       "    </tr>\n",
       "    <tr>\n",
       "      <th>1</th>\n",
       "      <td>Decision Tree</td>\n",
       "      <td>0.414836</td>\n",
       "      <td>0.431373</td>\n",
       "      <td>0.525425</td>\n",
       "    </tr>\n",
       "  </tbody>\n",
       "</table>\n",
       "</div>"
      ],
      "text/plain": [
       "               Model       MSE       MAE        R2\n",
       "2      Random Forest  0.178682  0.291116  0.795586\n",
       "3  Gradient Boosting  0.204944  0.322695  0.765543\n",
       "4                SVR  0.226701  0.335635  0.740652\n",
       "0  Linear Regression  0.316522  0.423553  0.637896\n",
       "1      Decision Tree  0.414836  0.431373  0.525425"
      ]
     },
     "execution_count": 164,
     "metadata": {},
     "output_type": "execute_result"
    }
   ],
   "source": [
    "results = pd.DataFrame([lr_result, dt_result, rf_result, gb_result, svr_result])\n",
    "results.sort_values(by='R2', ascending=False)\n"
   ]
  },
  {
   "cell_type": "markdown",
   "id": "805500e4-25cc-427e-b9af-cf99577db786",
   "metadata": {},
   "source": [
    "### Evaluation Summary\n",
    "* Best-Performing Model: Random Forest Regressor<br>\n",
    "R² = 0.7956, lowest MSE and MAE among all models.<br>\n",
    "\n",
    "It captures non-linear patterns, handles feature interactions, and is robust to outliers.\n",
    "\n",
    "Ideal for this kind of structured tabular data.\n",
    "\n",
    "* Moderate Performers:\n",
    "Gradient Boosting Regressor: Second best; slightly higher error but still high accuracy.\n",
    "\n",
    "SVR: Performs well but requires scaling and is slower on large datasets.\n",
    "\n",
    "* Worst-Performing Model: Decision Tree Regressor\n",
    "Lowest R² = 0.5254, highest MSE.\n",
    "\n",
    "Prone to overfitting without proper tuning.\n",
    "\n",
    "* Recommendation for Real-World Use:\n",
    "Use Random Forest or Gradient Boosting for production-level housing price predictions. Consider model tuning (e.g., GridSearchCV) and feature importance analysis for further improvement."
   ]
  },
  {
   "cell_type": "code",
   "execution_count": null,
   "id": "2a0702ac-26b5-47d7-9c4b-f32a1c82c5e7",
   "metadata": {},
   "outputs": [],
   "source": []
  }
 ],
 "metadata": {
  "kernelspec": {
   "display_name": "Python [conda env:base] *",
   "language": "python",
   "name": "conda-base-py"
  },
  "language_info": {
   "codemirror_mode": {
    "name": "ipython",
    "version": 3
   },
   "file_extension": ".py",
   "mimetype": "text/x-python",
   "name": "python",
   "nbconvert_exporter": "python",
   "pygments_lexer": "ipython3",
   "version": "3.12.7"
  }
 },
 "nbformat": 4,
 "nbformat_minor": 5
}
